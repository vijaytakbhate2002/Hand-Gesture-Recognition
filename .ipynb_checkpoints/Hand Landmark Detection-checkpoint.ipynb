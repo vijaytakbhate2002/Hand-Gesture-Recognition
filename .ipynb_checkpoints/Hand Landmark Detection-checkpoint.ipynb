{
 "cells": [
  {
   "cell_type": "code",
   "execution_count": 1,
   "id": "dde233ba-30a3-4c68-8d85-73bdc0a554e7",
   "metadata": {},
   "outputs": [],
   "source": [
    "import cv2 \n",
    "import matplotlib.pyplot as plt\n",
    "import mediapipe as mp\n",
    "from mediapipe.tasks import python\n",
    "from mediapipe.tasks.python import vision\n",
    "import numpy as np\n",
    "import time  "
   ]
  },
  {
   "cell_type": "code",
   "execution_count": 4,
   "id": "96f2f139-7630-476b-b6ea-45066f1048a5",
   "metadata": {},
   "outputs": [
    {
     "name": "stderr",
     "output_type": "stream",
     "text": [
      "C:\\Users\\admin\\AppData\\Local\\Programs\\Python\\Python312\\Lib\\site-packages\\google\\protobuf\\symbol_database.py:55: UserWarning: SymbolDatabase.GetPrototype() is deprecated. Please use message_factory.GetMessageClass() instead. SymbolDatabase.GetPrototype() will be removed soon.\n",
      "  warnings.warn('SymbolDatabase.GetPrototype() is deprecated. Please '\n"
     ]
    }
   ],
   "source": [
    "\n",
    "class HandLandmark:\n",
    "    MODEL_ASSET_PATH = 'Google Landmark models\\\\hand_landmarker.task'\n",
    "    HANDS = 2\n",
    "    Min_HDC = 0.5\n",
    "    Min_HPC = 0.5\n",
    "    TASK = 'image'\n",
    "    base_options = python.BaseOptions(model_asset_path=MODEL_ASSET_PATH)\n",
    "    options = vision.HandLandmarkerOptions(base_options=base_options, num_hands=HANDS, min_hand_detection_confidence = Min_HDC, min_hand_presence_confidence = Min_HPC, min_tracking_confidence = 0.9)\n",
    "    DETECTOR = vision.HandLandmarker.create_from_options(options)\n",
    "    \n",
    "    def annotate_image(self, image, detection_result):\n",
    "        image_rgb = cv2.cvtColor(image, cv2.COLOR_BGR2RGB)\n",
    "    \n",
    "        for landmarks in detection_result.hand_landmarks:\n",
    "            # Initialize variables to find the bounding box\n",
    "            x_min = float('inf')\n",
    "            x_max = float('-inf')\n",
    "            y_min = float('inf')\n",
    "            y_max = float('-inf')\n",
    "            for landmark in landmarks:\n",
    "                x = int(landmark.x * image.shape[1])\n",
    "                y = int(landmark.y * image.shape[0])\n",
    "                x_min = min(x_min, x)\n",
    "                x_max = max(x_max, x)\n",
    "                y_min = min(y_min, y)\n",
    "                y_max = max(y_max, y)\n",
    "                cv2.circle(image_rgb, (x, y), 5, (0, 255, 0), -1)\n",
    "            cv2.rectangle(image_rgb, (x_min, y_min), (x_max, y_max), (255, 0, 0), 1)    \n",
    "        return image_rgb\n",
    "\n",
    "    def get_landmarks(self, image):\n",
    "        detection_result = self.DETECTOR.detect(image)\n",
    "        return detection_result\n",
    "\n",
    "    def draw_image_landmarks(self, image): \n",
    "        image = cv2.resize(image, (image.shape[1]//2, image.shape[0]//2))\n",
    "        image = mp.Image(image_format=mp.ImageFormat.SRGB, data=image)\n",
    "        detection_result = self.get_landmarks(image)\n",
    "        annotated_image = self.annotate_image(image.numpy_view(), detection_result)\n",
    "        cv2.imshow(\"Hand Landmarks\", cv2.cvtColor(annotated_image, cv2.COLOR_RGB2BGR))\n",
    "        if self.TASK == 'image':\n",
    "            cv2.waitKey(3000) \n",
    "            cv2.destroyAllWindows()\n",
    "\n",
    "detector = HandLandmark()\n",
    "detector.TASK = 'video'\n",
    "\n",
    "cp = cv2.VideoCapture(0)\n",
    "while True:\n",
    "    success, image = cp.read()\n",
    "    if not success:\n",
    "        break\n",
    "    if cv2.waitKey(10) & 0xFF == ord('q'):\n",
    "        break\n",
    "    detector.draw_image_landmarks(image)\n",
    "cv2.destroyAllWindows()\n",
    "    "
   ]
  },
  {
   "cell_type": "code",
   "execution_count": null,
   "id": "e373273a-67f2-485e-92a4-197bcac68f1a",
   "metadata": {},
   "outputs": [],
   "source": []
  }
 ],
 "metadata": {
  "kernelspec": {
   "display_name": "Python 3 (ipykernel)",
   "language": "python",
   "name": "python3"
  },
  "language_info": {
   "codemirror_mode": {
    "name": "ipython",
    "version": 3
   },
   "file_extension": ".py",
   "mimetype": "text/x-python",
   "name": "python",
   "nbconvert_exporter": "python",
   "pygments_lexer": "ipython3",
   "version": "3.12.4"
  }
 },
 "nbformat": 4,
 "nbformat_minor": 5
}
